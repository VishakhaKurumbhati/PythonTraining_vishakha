{
 "cells": [
  {
   "cell_type": "code",
   "execution_count": 2,
   "metadata": {},
   "outputs": [
    {
     "name": "stdout",
     "output_type": "stream",
     "text": [
      "<class 'str'>\n",
      "Hello Everyone !\n"
     ]
    }
   ],
   "source": [
    "name = \"Hello Everyone !\"\n",
    "print(type(name))\n",
    "print(name)"
   ]
  },
  {
   "cell_type": "code",
   "execution_count": 3,
   "metadata": {},
   "outputs": [
    {
     "name": "stdout",
     "output_type": "stream",
     "text": [
      "<class 'str'>\n",
      "Hello Everyone !\n"
     ]
    }
   ],
   "source": [
    "name = 'Hello Everyone !'\n",
    "print(type(name))\n",
    "print(name)"
   ]
  },
  {
   "cell_type": "code",
   "execution_count": 4,
   "metadata": {},
   "outputs": [
    {
     "name": "stdout",
     "output_type": "stream",
     "text": [
      "<class 'str'>\n",
      "Hello Everyone !\n"
     ]
    }
   ],
   "source": [
    "name = \"Hello \" \\\n",
    "       \"Everyone !\"\n",
    "print(type(name))\n",
    "print(name)"
   ]
  },
  {
   "cell_type": "code",
   "execution_count": 6,
   "metadata": {},
   "outputs": [
    {
     "name": "stdout",
     "output_type": "stream",
     "text": [
      "<class 'str'>\n",
      "Hello \n",
      "Everyone !\n"
     ]
    }
   ],
   "source": [
    "name = '''Hello \n",
    "Everyone !'''\n",
    "print(type(name))\n",
    "print(name)"
   ]
  },
  {
   "cell_type": "code",
   "execution_count": 7,
   "metadata": {},
   "outputs": [
    {
     "name": "stdout",
     "output_type": "stream",
     "text": [
      "\n",
      "x = input(\"Please enter your name : \") # Pause the program + wait for input\n",
      "print(\"User Input Is :\", x)\n",
      "print(type(x)) \n"
     ]
    }
   ],
   "source": [
    "program = '''\n",
    "x = input(\"Please enter your name : \") # Pause the program + wait for input\n",
    "print(\"User Input Is :\", x)\n",
    "print(type(x)) '''\n",
    "\n",
    "print(program)"
   ]
  },
  {
   "cell_type": "code",
   "execution_count": 20,
   "metadata": {},
   "outputs": [
    {
     "name": "stdout",
     "output_type": "stream",
     "text": [
      "W\n",
      "e\n",
      "l\n",
      "c\n",
      "o\n",
      "m\n",
      "Length: 22\n",
      "21\n",
      "!\n",
      "!\n",
      "!\n",
      " \n",
      "t\n",
      "W\n"
     ]
    }
   ],
   "source": [
    "# Accesing the characters\n",
    "# 0-based indexing\n",
    "\n",
    "greet = \"Welcome to the event !\"\n",
    "\n",
    "print(greet[0]) # first character\n",
    "print(greet[1])\n",
    "print(greet[2])\n",
    "print(greet[3])\n",
    "print(greet[4])\n",
    "print(greet[5])\n",
    "\n",
    "# Last character (+ve indexing )\n",
    "length = len(greet)\n",
    "print(\"Length:\", length)\n",
    "\n",
    "last_index = length-1\n",
    "print(last_index)\n",
    "\n",
    "print(greet[last_index])\n",
    "print(greet[21])\n",
    "\n",
    "# Last character (-ve indexing)\n",
    "print(greet[-1])\n",
    "print(greet[-2])\n",
    "print(greet[-3])\n",
    "\n",
    "print(greet[-22]) # First Character\n",
    "# print(greet[22]) # IndexError: string index out of range\n"
   ]
  },
  {
   "cell_type": "code",
   "execution_count": 35,
   "metadata": {},
   "outputs": [
    {
     "name": "stdout",
     "output_type": "stream",
     "text": [
      "First Character : H\n",
      "Last Character : !\n",
      "Last Character : !\n",
      "Hel\n",
      "Hel\n",
      "Hl\n",
      "lo Rame\n",
      " m\n",
      "lo Ramesh !\n",
      "Hel\n",
      "Hello Ramesh !\n",
      "Hello \n",
      "sh !\n",
      "Hello Rame\n",
      "Hello Ramesh !\n"
     ]
    }
   ],
   "source": [
    "# String Slicing\n",
    "\n",
    "name = \"Hello Ramesh !\"\n",
    "size = len(name)\n",
    "print(\"First Character :\", name[0])\n",
    "print(\"Last Character :\", name[size-1])\n",
    "print(\"Last Character :\", name[-1])\n",
    "\n",
    "# name [start:stop:step] \n",
    "# start => starting index position, default : 0\n",
    "# stop => end index position, not counted in o/p, default : entire length\n",
    "# step => increment, deafult : 1\n",
    "\n",
    "print(name[0:3:1]) # start:0, stop:3, step: 1\n",
    "print(name[0:3]) # start:0, stop:3, step: default value\n",
    "print(name[0:3:2]) # start:0, stop:3, step: 2\n",
    "\n",
    "print(name[3:10]) # start:3, stop:10, step: 1\n",
    "\n",
    "print(name[5:10:3]) # start:5, stop:10, step: 3\n",
    "\n",
    "print(name[3:]) # start:3, stop: length, 14, step: 1     3:14:1\n",
    "\n",
    "print(name[:3]) # start:0, stop: 3, step: 1    0:3:1 \n",
    "\n",
    "print(name[::]) # start:0, stop: length, step: 1\n",
    "\n",
    "print(name[-14:-8]) # start: -14 , stop: -8, step: 1\n",
    "\n",
    "print(name[-4:]) # start: -4 , stop: length, step: 1\n",
    "\n",
    "print(name[:-4]) # start: 0 , stop: -4, step: 1\n",
    "\n",
    "print(name[:]) # start: 0 , stop: length, step: 1"
   ]
  },
  {
   "cell_type": "code",
   "execution_count": 37,
   "metadata": {},
   "outputs": [
    {
     "name": "stdout",
     "output_type": "stream",
     "text": [
      "Length :  22\n",
      "Original String :  Welcome to the event !\n",
      "Lower String :  welcome to the event !\n",
      "Upper String :  WELCOME TO THE EVENT !\n",
      "Cap String :  Welcome to the event !\n",
      "Title String :  Welcome To The Event !\n"
     ]
    }
   ],
   "source": [
    "# Inbuilt Functions \n",
    "\n",
    "greet = \"Welcome to the event !\"\n",
    "\n",
    "# len : no. of characters in a string\n",
    "nc = len(greet)\n",
    "print(\"Length : \", nc)\n",
    "\n",
    "# changing the case \n",
    "\n",
    "lw = greet.lower()\n",
    "up = greet.upper()\n",
    "cp = greet.capitalize()\n",
    "tl = greet.title()\n",
    "\n",
    "print(\"Original String : \", greet)\n",
    "print(\"Lower String : \", lw)\n",
    "print(\"Upper String : \", up)\n",
    "print(\"Cap String : \", cp)\n",
    "print(\"Title String : \", tl)"
   ]
  },
  {
   "cell_type": "code",
   "execution_count": 44,
   "metadata": {},
   "outputs": [
    {
     "name": "stdout",
     "output_type": "stream",
     "text": [
      "<class 'str'>\n",
      "['Welcome', 'to', 'the', 'event', '!']\n",
      "<class 'list'>\n",
      "Welcome\n",
      "to\n",
      "the\n",
      "event\n",
      "!\n",
      "['101', 'Ramesh', '12-10-2021', 'IT', 'Developer']\n"
     ]
    }
   ],
   "source": [
    "# Split : breaks the string into a list based on some delimiter (separator)\n",
    "\n",
    "greet = \"Welcome to the event !\"\n",
    "print(type(greet))\n",
    "\n",
    "splitGreet = greet.split(\" \")  # string => list\n",
    "print(splitGreet)\n",
    "print(type(splitGreet))\n",
    "\n",
    "print(splitGreet[0])  # Welcome\n",
    "print(splitGreet[1])  # to\n",
    "print(splitGreet[2])  # the\n",
    "print(splitGreet[3])  # event\n",
    "print(splitGreet[4])  # !\n",
    "\n",
    "\n",
    "empRecord = \"101|Ramesh|12-10-2021|IT|Developer\"\n",
    "empData = empRecord.split(\"|\")\n",
    "print(empData)"
   ]
  },
  {
   "cell_type": "code",
   "execution_count": 51,
   "metadata": {},
   "outputs": [
    {
     "name": "stdout",
     "output_type": "stream",
     "text": [
      "     101   |    Ramesh|    12-10-2021      |IT|Developer      \n",
      "101   |    Ramesh|    12-10-2021      |IT|Developer      \n",
      "     101   |    Ramesh|    12-10-2021      |IT|Developer\n",
      "101   |    Ramesh|    12-10-2021      |IT|Developer\n",
      "['     101   ', '    Ramesh', '    12-10-2021      ', 'IT', 'Developer      ']\n",
      "['101', 'Ramesh', '12-10-2021', 'IT', 'Developer']\n"
     ]
    }
   ],
   "source": [
    "# strip : removes the whitespace characters from beginning/end (trailing/leading)\n",
    "empRecord = \"     101   |    Ramesh|    12-10-2021      |IT|Developer      \"\n",
    "print(empRecord)\n",
    "stripedData = empRecord.lstrip()\n",
    "print(stripedData)\n",
    "\n",
    "stripedData = empRecord.rstrip()\n",
    "print(stripedData)\n",
    "\n",
    "stripedData = empRecord.strip()\n",
    "print(stripedData)\n",
    "\n",
    "\n",
    "# Removing the whitespaces from middle\n",
    "empData = empRecord.split(\"|\")\n",
    "print(empData)\n",
    "# Applying the strip at individual element level\n",
    "empList = [empData[0].strip(), empData[1].strip(), empData[2].strip(), empData[3].strip(), empData[4].strip(), ]\n",
    "\n",
    "print(empList)\n"
   ]
  }
 ],
 "metadata": {
  "kernelspec": {
   "display_name": "Python 3",
   "language": "python",
   "name": "python3"
  },
  "language_info": {
   "codemirror_mode": {
    "name": "ipython",
    "version": 3
   },
   "file_extension": ".py",
   "mimetype": "text/x-python",
   "name": "python",
   "nbconvert_exporter": "python",
   "pygments_lexer": "ipython3",
   "version": "3.12.5"
  }
 },
 "nbformat": 4,
 "nbformat_minor": 2
}
